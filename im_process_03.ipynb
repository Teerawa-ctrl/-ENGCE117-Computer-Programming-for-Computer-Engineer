{
  "cells": [
    {
      "cell_type": "markdown",
      "metadata": {
        "id": "view-in-github",
        "colab_type": "text"
      },
      "source": [
        "<a href=\"https://colab.research.google.com/github/Teerawa-ctrl/-ENGCE117-Computer-Programming-for-Computer-Engineer/blob/main/im_process_03.ipynb\" target=\"_parent\"><img src=\"https://colab.research.google.com/assets/colab-badge.svg\" alt=\"Open In Colab\"/></a>"
      ]
    },
    {
      "cell_type": "markdown",
      "metadata": {
        "id": "4w--gP1ycZY4"
      },
      "source": [
        "#SETUP"
      ]
    },
    {
      "cell_type": "code",
      "execution_count": null,
      "metadata": {
        "colab": {
          "background_save": true
        },
        "id": "kXZPHMZjcSeb"
      },
      "outputs": [],
      "source": [
        "\n",
        "import os\n",
        "import cv2\n",
        "import numpy as np\n",
        "from google.colab.patches import cv2_imshow"
      ]
    },
    {
      "cell_type": "code",
      "execution_count": null,
      "metadata": {
        "id": "8cF46QfCcn4q"
      },
      "outputs": [],
      "source": [
        "import os\n",
        "from PIL import Image\n",
        "from IPython.display import display\n",
        "\n",
        "folder_path = '/content/processed_im03'  # ชื่อโฟลเดอร์ที่มีรูปภาพที่แตกไฟล์ออกมา\n",
        "\n",
        "# วนลูปแสดงรูปภาพทั้งหมดในโฟลเดอร์\n",
        "for filename in os.listdir(folder_path):\n",
        "    if filename.endswith(\".jpg\") or filename.endswith(\".png\"):\n",
        "        img_path = os.path.join(folder_path, filename)\n",
        "        # อ่านรูปภาพ\n",
        "        img = Image.open(img_path)\n",
        "        # แสดงรูปภาพ\n",
        "        display(img)"
      ]
    },
    {
      "cell_type": "code",
      "execution_count": null,
      "metadata": {
        "id": "eGIU-oYnc1Xg"
      },
      "outputs": [],
      "source": [
        "%%time\n",
        "\n",
        "import os\n",
        "import cv2\n",
        "import numpy as np\n",
        "from PIL import Image\n",
        "from IPython.display import display\n",
        "\n",
        "def process_images_in_folder(input_folder, output_folder):\n",
        "    # สร้างโฟลเดอร์สำหรับบันทึกผลลัพธ์ถ้ายังไม่มี\n",
        "    if not os.path.exists(output_folder):\n",
        "        os.makedirs(output_folder)\n",
        "\n",
        "    for filename in os.listdir(input_folder):\n",
        "        if filename.endswith(\".jpg\") or filename.endswith(\".png\"):\n",
        "            image_path = os.path.join(input_folder, filename)\n",
        "\n",
        "            # อ่านรูปภาพ\n",
        "            image = cv2.imread(image_path, 0)\n",
        "\n",
        "            # สร้าง kernel สำหรับการเพิ่มความคมชัด\n",
        "            kernel = np.array([[0, -1, 0],\n",
        "                               [-1, 5, -1],\n",
        "                               [0, -1, 0]])\n",
        "\n",
        "            # ใช้ฟิลเตอร์เพิ่มความคมชัดกับภาพ\n",
        "            sharpened = cv2.filter2D(image, -1, kernel)\n",
        "\n",
        "            # ลดลอยในภาพ grayscale\n",
        "            denoised1 = cv2.fastNlMeansDenoising(sharpened, h=10, templateWindowSize=7, searchWindowSize=21)\n",
        "\n",
        "            # กำหนดค่า sigmaColor และ sigmaSpace\n",
        "            sigmaColor = 25  # ควบคุมปริมาณการเบลอสี\n",
        "            sigmaSpace = 50  # ควบคุมปริมาณการเบลอพิกเซลที่อยู่ใกล้เคียง\n",
        "\n",
        "            denoised2 = cv2.bilateralFilter(denoised1, -1, sigmaColor, sigmaSpace)\n",
        "\n",
        "            # บันทึกรูปภาพที่ประมวลผลแล้ว\n",
        "            output_image_path = os.path.join(output_folder, f'processed_{filename}')\n",
        "            cv2.imwrite(output_image_path, denoised2)\n",
        "\n",
        "            # แสดงผลรูปภาพ\n",
        "            display_image(denoised2)\n",
        "\n",
        "def display_image(image):\n",
        "    img = Image.fromarray(image)\n",
        "    display(img)\n",
        "\n",
        "# กำหนดโฟลเดอร์สำหรับอินพุตและเอาต์พุต\n",
        "input_folder = '/content/orig_doc_by_type/content/orig_doc_by_type/visa'\n",
        "output_folder = '/content/processed_images'\n",
        "\n",
        "# ประมวลผลรูปภาพและบันทึกลงในโฟลเดอร์เอาต์พุต\n",
        "process_images_in_folder(input_folder, output_folder)\n"
      ]
    },
    {
      "cell_type": "code",
      "execution_count": null,
      "metadata": {
        "id": "u4nvRf6rc4ik"
      },
      "outputs": [],
      "source": [
        "import shutil\n",
        "from google.colab import files\n",
        "\n",
        "folder_to_zip = '/content/processed_images_visa'\n",
        "output_zip = '/content/processed_images_visa'\n",
        "\n",
        "# บีบอัดโฟลเดอร์\n",
        "shutil.make_archive(output_zip.replace('.zip', ''), 'zip', folder_to_zip)\n",
        "\n",
        "# ดาวน์โหลดไฟล์ zip\n",
        "files.download(output_zip)"
      ]
    }
  ],
  "metadata": {
    "colab": {
      "provenance": [],
      "authorship_tag": "ABX9TyPuuR66G9GAh4yADjU9MAyy",
      "include_colab_link": true
    },
    "kernelspec": {
      "display_name": "Python 3",
      "name": "python3"
    },
    "language_info": {
      "name": "python"
    }
  },
  "nbformat": 4,
  "nbformat_minor": 0
}